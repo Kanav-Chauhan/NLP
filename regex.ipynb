{
 "cells": [
  {
   "cell_type": "code",
   "execution_count": 1,
   "id": "703b3789",
   "metadata": {},
   "outputs": [],
   "source": [
    "import re\n",
    "\n",
    "text = \"\"\"\n",
    "Contact me at rookie123@gmail.com or pro_nlp@outlook.com!!!\n",
    "My phone numbers are 9876543210, 123-456-7890... \n",
    "Learning #Python and #NLP with #regex >>> it's hard??? Or not.\n",
    "Total cost = $500, paid on 12-08-2025. \n",
    "\"\"\"\n"
   ]
  },
  {
   "cell_type": "code",
   "execution_count": 9,
   "id": "f1d2918e",
   "metadata": {},
   "outputs": [
    {
     "name": "stdout",
     "output_type": "stream",
     "text": [
      "NUMBERS: ['123', '9876543210', '123', '456', '7890', '500', '12', '08', '2025']\n",
      "EMAILS: ['rookie123@gmail.com', 'pro_nlp@outlook.com']\n",
      "HASHTAGS: ['#Python', '#NLP', '#regex']\n",
      "CLEANED: ['Contact', 'me', 'at', 'rookiegmailcom', 'or', 'pronlpoutlookcom', 'My', 'phone', 'numbers', 'are', 'Learning', 'Python', 'and', 'NLP', 'with', 'regex', 'its', 'hard', 'Or', 'not', 'Total', 'cost', 'paid', 'on']\n",
      "SENTENCES: ['Contact me at rookie123@gmail', 'com or pro_nlp@outlook', 'com', 'My phone numbers are 9876543210, 123-456-7890', \"Learning #Python and #NLP with #regex >>> it's hard\", 'Or not', 'Total cost = $500, paid on 12-08-2025']\n"
     ]
    }
   ],
   "source": [
    "# 1. Extract numbers\n",
    "numbers = re.findall(r\"\\d+\", text)\n",
    "\n",
    "# 2. Extract emails\n",
    "emails = re.findall(r\"\\w+@\\w+\\.\\w+\", text)\n",
    "\n",
    "# 3. Extract hashtags\n",
    "hashtags = re.findall(r\"\\#\\w+\", text)\n",
    "\n",
    "# 4. Clean text\n",
    "cleaned = re.sub(r\"[^a-zA-Z\\s]\", \"\", text).split()\n",
    "\n",
    "# 5. Sentence splitter\n",
    "sentences = [s.strip() for s in re.split(r\"[.?!]\", text) if s.strip()]\n",
    "\n",
    "print(\"NUMBERS:\", numbers)\n",
    "print(\"EMAILS:\", emails)\n",
    "print(\"HASHTAGS:\", hashtags)\n",
    "print(\"CLEANED:\", cleaned)\n",
    "print(\"SENTENCES:\", sentences)\n"
   ]
  },
  {
   "cell_type": "code",
   "execution_count": null,
   "id": "23e562f9",
   "metadata": {},
   "outputs": [],
   "source": []
  },
  {
   "cell_type": "code",
   "execution_count": null,
   "id": "632b191d",
   "metadata": {},
   "outputs": [],
   "source": []
  }
 ],
 "metadata": {
  "kernelspec": {
   "display_name": "venv",
   "language": "python",
   "name": "python3"
  },
  "language_info": {
   "codemirror_mode": {
    "name": "ipython",
    "version": 3
   },
   "file_extension": ".py",
   "mimetype": "text/x-python",
   "name": "python",
   "nbconvert_exporter": "python",
   "pygments_lexer": "ipython3",
   "version": "3.13.7"
  }
 },
 "nbformat": 4,
 "nbformat_minor": 5
}
